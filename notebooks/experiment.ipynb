{
 "cells": [
  {
   "cell_type": "code",
   "execution_count": null,
   "metadata": {},
   "outputs": [],
   "source": [
    "class SegEnsemble(nn.Module):\n",
    "    def __init__(self, modelA, modelB, modelC):\n",
    "        super(SegEnsemble, self).__init__()\n",
    "        self.modelA = modelA\n",
    "        self.modelB = modelB\n",
    "        self.modelC = modelC\n",
    "        self.classifier = nn.Conv3d(4, 2, kernel_size=3, padding=1)\n",
    "\n",
    "    def forward(self, inputData):\n",
    "        x1 = self.modelA(inputData)\n",
    "        x2 = self.modelB(inputData)\n",
    "        x2 = torch.argmax(x2, dim=1, keepdim=True).float()\n",
    "        x3 = self.modelC(x2)\n",
    "        x = torch.cat((x1, x3), dim=1)\n",
    "        x = self.classifier(x)\n",
    "        return x\n",
    "\n",
    "\n",
    "modelA = torch.load(\"./models/final/model24SWINFINAL.h5\").to(device)\n",
    "modelB = torch.load(\"./models/final/modelSwinVOLUME-SEG.h5\").to(device)\n",
    "modelC = torch.load(\"./models/final/model5SwinSEGLUNG.h5\").to(device)\n",
    "\n",
    "model = SegEnsemble(modelA, modelB, modelC).to(device)"
   ]
  }
 ],
 "metadata": {
  "kernelspec": {
   "display_name": "Python 3",
   "language": "python",
   "name": "python3"
  },
  "language_info": {
   "codemirror_mode": {
    "name": "ipython",
    "version": 3
   },
   "file_extension": ".py",
   "mimetype": "text/x-python",
   "name": "python",
   "nbconvert_exporter": "python",
   "pygments_lexer": "ipython3",
   "version": "3.8.5"
  }
 },
 "nbformat": 4,
 "nbformat_minor": 4
}
